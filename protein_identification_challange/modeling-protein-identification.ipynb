{
 "cells": [
  {
   "cell_type": "markdown",
   "metadata": {},
   "source": [
    "This notebook is performing the Training for the [Human Protein Atlas Image Classification](https://www.kaggle.com/c/human-protein-atlas-image-classification) challange. This challange is a classification challange to identify the different protein types of the human body.\n",
    "Link to this Notebook on Kaggle: [Link](https://www.kaggle.com/smehta12/modeling-protein-identification)\n",
    "\n",
    "It uses the extensive funcationality of the Keras library. It generates the required data in batches. It uses the transfer learning of the pre-trained models from the Keras library. Also, it uses the multiple accuracy measures for the classification.\n",
    "\n",
    "This notebok was on first 50th percentile of the notebook at the time of results submit on Kaggle."
   ]
  },
  {
   "cell_type": "code",
   "execution_count": 4,
   "metadata": {
    "_cell_guid": "b1076dfc-b9ad-4769-8c92-a6c4dae69d19",
    "_uuid": "8f2839f25d086af736a60e9eeb907d3b93b6e0e5"
   },
   "outputs": [],
   "source": [
    "import os\n",
    "import pandas as pd\n",
    "import matplotlib.pyplot as plt\n",
    "import seaborn as sns\n",
    "import numpy as np\n",
    "import sys\n",
    "import cv2\n",
    "import gc\n",
    "import random\n",
    "import tensorflow as tf\n",
    "import keras.backend as K\n",
    "import imgaug as ia\n",
    "\n",
    "from tqdm import tqdm\n",
    "from imgaug import augmenters as iaa\n",
    "from sklearn.model_selection import train_test_split\n",
    "from sklearn.utils import shuffle\n",
    "from keras.preprocessing.image import ImageDataGenerator\n",
    "from keras.models import Sequential\n",
    "from keras.optimizers import RMSprop, Adam\n",
    "from keras import regularizers\n",
    "from keras.utils import Sequence\n",
    "from keras.callbacks import ModelCheckpoint, ReduceLROnPlateau, EarlyStopping"
   ]
  },
  {
   "cell_type": "code",
   "execution_count": 5,
   "metadata": {
    "_cell_guid": "79c7e3d0-c299-4dcb-8224-4455121ee9b0",
    "_uuid": "d629ff2d2480ee46fbb7e2d37f6b5fab8052498a"
   },
   "outputs": [],
   "source": [
    "root_dir=\"/home/shalin/my_projects/protein_atlas\"\n",
    "train_dir=os.path.join(root_dir, \"train\")\n",
    "test_dir=os.path.join(root_dir, \"test\")\n",
    "train_csv_path=os.path.join(root_dir,\"train.csv\")"
   ]
  },
  {
   "cell_type": "code",
   "execution_count": 6,
   "metadata": {
    "_uuid": "c26966c177671e0ab4f0ec04e0b6aac2ddb55da4"
   },
   "outputs": [],
   "source": [
    "IMAGE_SIZE=224 #256# 512"
   ]
  },
  {
   "cell_type": "code",
   "execution_count": 7,
   "metadata": {
    "_uuid": "5c0e1b81d836688f116a97c6a06d2d8af23e0bb4"
   },
   "outputs": [
    {
     "name": "stdout",
     "output_type": "stream",
     "text": [
      "(31072, 2)\n"
     ]
    },
    {
     "data": {
      "text/html": [
       "<div>\n",
       "<style scoped>\n",
       "    .dataframe tbody tr th:only-of-type {\n",
       "        vertical-align: middle;\n",
       "    }\n",
       "\n",
       "    .dataframe tbody tr th {\n",
       "        vertical-align: top;\n",
       "    }\n",
       "\n",
       "    .dataframe thead th {\n",
       "        text-align: right;\n",
       "    }\n",
       "</style>\n",
       "<table border=\"1\" class=\"dataframe\">\n",
       "  <thead>\n",
       "    <tr style=\"text-align: right;\">\n",
       "      <th></th>\n",
       "      <th>Id</th>\n",
       "      <th>Target</th>\n",
       "    </tr>\n",
       "  </thead>\n",
       "  <tbody>\n",
       "    <tr>\n",
       "      <th>0</th>\n",
       "      <td>00070df0-bbc3-11e8-b2bc-ac1f6b6435d0</td>\n",
       "      <td>16 0</td>\n",
       "    </tr>\n",
       "    <tr>\n",
       "      <th>1</th>\n",
       "      <td>000a6c98-bb9b-11e8-b2b9-ac1f6b6435d0</td>\n",
       "      <td>7 1 2 0</td>\n",
       "    </tr>\n",
       "    <tr>\n",
       "      <th>2</th>\n",
       "      <td>000a9596-bbc4-11e8-b2bc-ac1f6b6435d0</td>\n",
       "      <td>5</td>\n",
       "    </tr>\n",
       "    <tr>\n",
       "      <th>3</th>\n",
       "      <td>000c99ba-bba4-11e8-b2b9-ac1f6b6435d0</td>\n",
       "      <td>1</td>\n",
       "    </tr>\n",
       "    <tr>\n",
       "      <th>4</th>\n",
       "      <td>001838f8-bbca-11e8-b2bc-ac1f6b6435d0</td>\n",
       "      <td>18</td>\n",
       "    </tr>\n",
       "  </tbody>\n",
       "</table>\n",
       "</div>"
      ],
      "text/plain": [
       "                                     Id   Target\n",
       "0  00070df0-bbc3-11e8-b2bc-ac1f6b6435d0     16 0\n",
       "1  000a6c98-bb9b-11e8-b2b9-ac1f6b6435d0  7 1 2 0\n",
       "2  000a9596-bbc4-11e8-b2bc-ac1f6b6435d0        5\n",
       "3  000c99ba-bba4-11e8-b2b9-ac1f6b6435d0        1\n",
       "4  001838f8-bbca-11e8-b2bc-ac1f6b6435d0       18"
      ]
     },
     "execution_count": 7,
     "metadata": {},
     "output_type": "execute_result"
    }
   ],
   "source": [
    "# read the training csv\n",
    "train_csv = pd.read_csv(train_csv_path)\n",
    "print(train_csv.shape)\n",
    "train_csv.head()"
   ]
  },
  {
   "cell_type": "code",
   "execution_count": 8,
   "metadata": {
    "_uuid": "4c81cc8d22856480ae999dd7e395dcfaabaf6032"
   },
   "outputs": [],
   "source": [
    "class_names = {\n",
    "    0:\"Nucleoplasm\", 1:\"Nuclear membrane\", 2:\"Nucleoli\", 3:\"Nucleoli fibrillar center\", 4:\"Nuclear speckles\", \n",
    "    5:\"Nuclear bodies\",  6:\"Endoplasmic reticulum\", 7:\"Golgi apparatus\", 8:\"Peroxisomes\", 9:\"Endosomes\", \n",
    "    10:\"Lysosomes\", 11:\"Intermediate filaments\", 12:\"Actin filaments\", 13:\"Focal adhesion sites\",14:\"Microtubules\", \n",
    "    15:\"Microtubule ends\", 16:\"Cytokinetic bridge\", 17:\"Mitotic spindle\", 18:\"Microtubule organizing center\", \n",
    "    19:\"Centrosome\", 20:\"Lipid droplets\", 21:\"Plasma membrane\", 22:\"Cell junctions\", 23:\"Mitochondria\", \n",
    "    24:\"Aggresome\",  25:\"Cytosol\", 26:\"Cytoplasmic bodies\", 27:\"Rods & rings\" \n",
    "}"
   ]
  },
  {
   "cell_type": "code",
   "execution_count": 9,
   "metadata": {
    "_uuid": "eccbdfad85d8c23f25e31432b699cc8c8bf25b55"
   },
   "outputs": [
    {
     "data": {
      "text/html": [
       "<div>\n",
       "<style scoped>\n",
       "    .dataframe tbody tr th:only-of-type {\n",
       "        vertical-align: middle;\n",
       "    }\n",
       "\n",
       "    .dataframe tbody tr th {\n",
       "        vertical-align: top;\n",
       "    }\n",
       "\n",
       "    .dataframe thead th {\n",
       "        text-align: right;\n",
       "    }\n",
       "</style>\n",
       "<table border=\"1\" class=\"dataframe\">\n",
       "  <thead>\n",
       "    <tr style=\"text-align: right;\">\n",
       "      <th></th>\n",
       "      <th>Id</th>\n",
       "      <th>Target</th>\n",
       "      <th>Nucleoplasm</th>\n",
       "      <th>Nuclear membrane</th>\n",
       "      <th>Nucleoli</th>\n",
       "      <th>Nucleoli fibrillar center</th>\n",
       "      <th>Nuclear speckles</th>\n",
       "      <th>Nuclear bodies</th>\n",
       "      <th>Endoplasmic reticulum</th>\n",
       "      <th>Golgi apparatus</th>\n",
       "      <th>...</th>\n",
       "      <th>Microtubule organizing center</th>\n",
       "      <th>Centrosome</th>\n",
       "      <th>Lipid droplets</th>\n",
       "      <th>Plasma membrane</th>\n",
       "      <th>Cell junctions</th>\n",
       "      <th>Mitochondria</th>\n",
       "      <th>Aggresome</th>\n",
       "      <th>Cytosol</th>\n",
       "      <th>Cytoplasmic bodies</th>\n",
       "      <th>Rods &amp; rings</th>\n",
       "    </tr>\n",
       "  </thead>\n",
       "  <tbody>\n",
       "    <tr>\n",
       "      <th>0</th>\n",
       "      <td>00070df0-bbc3-11e8-b2bc-ac1f6b6435d0</td>\n",
       "      <td>16 0</td>\n",
       "      <td>1</td>\n",
       "      <td>0</td>\n",
       "      <td>0</td>\n",
       "      <td>0</td>\n",
       "      <td>0</td>\n",
       "      <td>0</td>\n",
       "      <td>0</td>\n",
       "      <td>0</td>\n",
       "      <td>...</td>\n",
       "      <td>0</td>\n",
       "      <td>0</td>\n",
       "      <td>0</td>\n",
       "      <td>0</td>\n",
       "      <td>0</td>\n",
       "      <td>0</td>\n",
       "      <td>0</td>\n",
       "      <td>0</td>\n",
       "      <td>0</td>\n",
       "      <td>0</td>\n",
       "    </tr>\n",
       "    <tr>\n",
       "      <th>1</th>\n",
       "      <td>000a6c98-bb9b-11e8-b2b9-ac1f6b6435d0</td>\n",
       "      <td>7 1 2 0</td>\n",
       "      <td>1</td>\n",
       "      <td>1</td>\n",
       "      <td>1</td>\n",
       "      <td>0</td>\n",
       "      <td>0</td>\n",
       "      <td>0</td>\n",
       "      <td>0</td>\n",
       "      <td>1</td>\n",
       "      <td>...</td>\n",
       "      <td>0</td>\n",
       "      <td>0</td>\n",
       "      <td>0</td>\n",
       "      <td>0</td>\n",
       "      <td>0</td>\n",
       "      <td>0</td>\n",
       "      <td>0</td>\n",
       "      <td>0</td>\n",
       "      <td>0</td>\n",
       "      <td>0</td>\n",
       "    </tr>\n",
       "    <tr>\n",
       "      <th>2</th>\n",
       "      <td>000a9596-bbc4-11e8-b2bc-ac1f6b6435d0</td>\n",
       "      <td>5</td>\n",
       "      <td>0</td>\n",
       "      <td>0</td>\n",
       "      <td>0</td>\n",
       "      <td>0</td>\n",
       "      <td>0</td>\n",
       "      <td>1</td>\n",
       "      <td>0</td>\n",
       "      <td>0</td>\n",
       "      <td>...</td>\n",
       "      <td>0</td>\n",
       "      <td>0</td>\n",
       "      <td>0</td>\n",
       "      <td>0</td>\n",
       "      <td>0</td>\n",
       "      <td>0</td>\n",
       "      <td>0</td>\n",
       "      <td>0</td>\n",
       "      <td>0</td>\n",
       "      <td>0</td>\n",
       "    </tr>\n",
       "    <tr>\n",
       "      <th>3</th>\n",
       "      <td>000c99ba-bba4-11e8-b2b9-ac1f6b6435d0</td>\n",
       "      <td>1</td>\n",
       "      <td>0</td>\n",
       "      <td>1</td>\n",
       "      <td>0</td>\n",
       "      <td>0</td>\n",
       "      <td>0</td>\n",
       "      <td>0</td>\n",
       "      <td>0</td>\n",
       "      <td>0</td>\n",
       "      <td>...</td>\n",
       "      <td>0</td>\n",
       "      <td>0</td>\n",
       "      <td>0</td>\n",
       "      <td>0</td>\n",
       "      <td>0</td>\n",
       "      <td>0</td>\n",
       "      <td>0</td>\n",
       "      <td>0</td>\n",
       "      <td>0</td>\n",
       "      <td>0</td>\n",
       "    </tr>\n",
       "    <tr>\n",
       "      <th>4</th>\n",
       "      <td>001838f8-bbca-11e8-b2bc-ac1f6b6435d0</td>\n",
       "      <td>18</td>\n",
       "      <td>0</td>\n",
       "      <td>0</td>\n",
       "      <td>0</td>\n",
       "      <td>0</td>\n",
       "      <td>0</td>\n",
       "      <td>0</td>\n",
       "      <td>0</td>\n",
       "      <td>0</td>\n",
       "      <td>...</td>\n",
       "      <td>1</td>\n",
       "      <td>0</td>\n",
       "      <td>0</td>\n",
       "      <td>0</td>\n",
       "      <td>0</td>\n",
       "      <td>0</td>\n",
       "      <td>0</td>\n",
       "      <td>0</td>\n",
       "      <td>0</td>\n",
       "      <td>0</td>\n",
       "    </tr>\n",
       "  </tbody>\n",
       "</table>\n",
       "<p>5 rows × 30 columns</p>\n",
       "</div>"
      ],
      "text/plain": [
       "                                     Id   Target  Nucleoplasm  \\\n",
       "0  00070df0-bbc3-11e8-b2bc-ac1f6b6435d0     16 0            1   \n",
       "1  000a6c98-bb9b-11e8-b2b9-ac1f6b6435d0  7 1 2 0            1   \n",
       "2  000a9596-bbc4-11e8-b2bc-ac1f6b6435d0        5            0   \n",
       "3  000c99ba-bba4-11e8-b2b9-ac1f6b6435d0        1            0   \n",
       "4  001838f8-bbca-11e8-b2bc-ac1f6b6435d0       18            0   \n",
       "\n",
       "   Nuclear membrane  Nucleoli  Nucleoli fibrillar center  Nuclear speckles  \\\n",
       "0                 0         0                          0                 0   \n",
       "1                 1         1                          0                 0   \n",
       "2                 0         0                          0                 0   \n",
       "3                 1         0                          0                 0   \n",
       "4                 0         0                          0                 0   \n",
       "\n",
       "   Nuclear bodies  Endoplasmic reticulum  Golgi apparatus      ...       \\\n",
       "0               0                      0                0      ...        \n",
       "1               0                      0                1      ...        \n",
       "2               1                      0                0      ...        \n",
       "3               0                      0                0      ...        \n",
       "4               0                      0                0      ...        \n",
       "\n",
       "   Microtubule organizing center  Centrosome  Lipid droplets  Plasma membrane  \\\n",
       "0                              0           0               0                0   \n",
       "1                              0           0               0                0   \n",
       "2                              0           0               0                0   \n",
       "3                              0           0               0                0   \n",
       "4                              1           0               0                0   \n",
       "\n",
       "   Cell junctions  Mitochondria  Aggresome  Cytosol  Cytoplasmic bodies  \\\n",
       "0               0             0          0        0                   0   \n",
       "1               0             0          0        0                   0   \n",
       "2               0             0          0        0                   0   \n",
       "3               0             0          0        0                   0   \n",
       "4               0             0          0        0                   0   \n",
       "\n",
       "   Rods & rings  \n",
       "0             0  \n",
       "1             0  \n",
       "2             0  \n",
       "3             0  \n",
       "4             0  \n",
       "\n",
       "[5 rows x 30 columns]"
      ]
     },
     "execution_count": 9,
     "metadata": {},
     "output_type": "execute_result"
    }
   ],
   "source": [
    "# split the targets in train csv\n",
    "def split_classes(row):\n",
    "    for cls_num in row[\"Target\"].split():\n",
    "        train_csv.loc[row.name, class_names[int(cls_num)]]=1\n",
    "\n",
    "for cls_num, cls_name in class_names.items():\n",
    "    train_csv[cls_name]=0\n",
    "\n",
    "# train_csv[\"splitted\"] = train_csv[\"Target\"].apply(lambda x: i+1 for i in x.split())\n",
    "train_csv.apply(split_classes, axis=1)\n",
    "train_csv.head()\n",
    "\n",
    "#DISABLE BELOW\n",
    "# train_csv = pd.read_csv(root_dir+\"/train_csv.csv\")\n",
    "# train_csv.head()"
   ]
  },
  {
   "cell_type": "code",
   "execution_count": 10,
   "metadata": {
    "_uuid": "2384a03cde4b4d47e6562626f4c4f869e7f5a73d"
   },
   "outputs": [],
   "source": [
    "# load the data batch wise from the disk on the fly\n",
    "# https://stanford.edu/~shervine/blog/keras-how-to-generate-data-on-the-fly\n",
    "\n",
    "class BatchDataGenerator(Sequence):\n",
    "    # 'Generates data for Keras'\n",
    "    def __init__(self, paths, labels, batch_size, shape, shuffle = True, augment = False, load_green_only=True, \n",
    "                 load_3chnls=False, return_paths=False):\n",
    "         # 'Initialization'\n",
    "        self.paths = paths\n",
    "        self.labels = labels\n",
    "        self.batch_size = batch_size\n",
    "        self.shape = shape\n",
    "        self.shuffle = shuffle\n",
    "        self.augment = augment\n",
    "        self.load_green_only = load_green_only\n",
    "        self.load_3chnls = load_3chnls\n",
    "        self.on_epoch_end()\n",
    "        self.return_paths = return_paths\n",
    "        \n",
    "    def __len__(self):\n",
    "        'Denotes the number of batches per epoch'\n",
    "        return int(np.floor(len(self.paths) / self.batch_size))\n",
    "    \n",
    "    def __getitem__(self, idx):\n",
    "        # Generate indexes of a batch\n",
    "        indexes = self.indexes[idx * self.batch_size : (idx+1) * self.batch_size]        \n",
    "        paths = self.paths[indexes]\n",
    "        X = np.zeros((paths.shape[0], self.shape[0], self.shape[1], self.shape[2]))\n",
    "        # Generate data\n",
    "        for i, path in enumerate(paths):\n",
    "            X[i] = self.__load_image(path)\n",
    "            \n",
    "        y = self.labels[indexes]\n",
    "                \n",
    "        if self.augment == True:\n",
    "            seq = iaa.Sequential([\n",
    "                iaa.OneOf([\n",
    "                    iaa.Fliplr(0.5), # horizontal flips\n",
    "                    iaa.Flipud(0.5),\n",
    "                    iaa.Crop(percent=(0, 0.1)), # random crops\n",
    "                    # Small gaussian blur with random sigma between 0 and 0.5.\n",
    "                    # But we only blur about 50% of all images.\n",
    "                    iaa.Sometimes(0.5,\n",
    "                        iaa.GaussianBlur(sigma=(0, 0.5))\n",
    "                    ),\n",
    "                    # Strengthen or weaken the contrast in each image.\n",
    "                    iaa.ContrastNormalization((0.75, 1.5)),\n",
    "                    # Add gaussian noise.\n",
    "                    # For 50% of all images, we sample the noise once per pixel.\n",
    "                    # For the other 50% of all images, we sample the noise per pixel AND\n",
    "                    # channel. This can change the color (not only brightness) of the\n",
    "                    # pixels.\n",
    "                    iaa.AdditiveGaussianNoise(loc=0, scale=(0.0, 0.05*255), per_channel=0.5),\n",
    "                    # Make some images brighter and some darker.\n",
    "                    # In 20% of all cases, we sample the multiplier once per channel,\n",
    "                    # which can end up changing the color of the images.\n",
    "                    iaa.Multiply((0.8, 1.2), per_channel=0.2),\n",
    "                    # Apply affine transformations to each image.\n",
    "                    # Scale/zoom them, translate/move them, rotate them and shear them.\n",
    "                    iaa.Affine(\n",
    "                        scale={\"x\": (0.8, 1.2), \"y\": (0.8, 1.2)},\n",
    "                        translate_percent={\"x\": (-0.2, 0.2), \"y\": (-0.2, 0.2)},\n",
    "                        rotate=(-180, 180),\n",
    "                        shear=(-8, 8)\n",
    "                    )\n",
    "                ])], random_order=True)\n",
    "\n",
    "            X = np.concatenate((X, seq.augment_images(X),  seq.augment_images(X)), 0)#, seq.augment_images(X), seq.augment_images(X)), 0)\n",
    "            y = np.concatenate((y, y, y),0) # y, y), 0)\n",
    "            \n",
    "        if self.return_paths:\n",
    "            return paths, X, y\n",
    "        else:\n",
    "            return X, y\n",
    "    \n",
    "    def __load_image(self, path):\n",
    "        if self.load_green_only:\n",
    "            im = cv2.imread(path + '_green.png')\n",
    "            cv2.resize(im, (IMAGE_SIZE, IMAGE_SIZE))\n",
    "            im.resize(IMAGE_SIZE, IMAGE_SIZE, 1)\n",
    "        elif load_3chnls:\n",
    "            all_images = np.empty((512,512,3))\n",
    "            reds = plt.imread(path + '_red.png')\n",
    "            greens = plt.imread(path + '_green.png')\n",
    "            blues = plt.imread(path + '_blue.png')\n",
    "             \n",
    "            all_images[:,:,0] = reds\n",
    "            all_images[:,:,1] = greens\n",
    "            all_images[:,:,2] = blues\n",
    "            \n",
    "            im = all_images.reshape(all_images.shape[0], all_images.shape[0], 3)\n",
    "            im = cv2.resize(im, (IMAGE_SIZE, IMAGE_SIZE))\n",
    "        else:\n",
    "            all_images = np.empty((512,512,4))\n",
    "            all_images[:,:,0] = cv2.imread(path + '_red.png')\n",
    "            all_images[:,:,1] = cv2.imread(path + '_green.png')\n",
    "            all_images[:,:,2] = cv2.imread(path + '_blue.png')\n",
    "            all_images[:,:,3] = cv2.imread(path + '_yellow.png')\n",
    "\n",
    "            # define transformation matrix\n",
    "            # note that yellow is made usign red and green\n",
    "            # but you can tune this color conversion yourself\n",
    "            T = np.array([\n",
    "                #r g y b\n",
    "                [1,0,1,0],\n",
    "                [0,1,1,0],\n",
    "                [0,0,0,1]])\n",
    "            \n",
    "            rgb_image = np.matmul(all_images.reshape(-1, 4), np.transpose(T))\n",
    "            rgb_image = rgb_image.reshape(all_images.shape[0], all_images.shape[0], 3)\n",
    "            rgb_image = np.clip(rgb_image, 0, 1)\n",
    "            \n",
    "            \n",
    "            im = cv2.resize(im, (IMAGE_SIZE, IMAGE_SIZE))\n",
    "        return im\n",
    "    \n",
    "    def __iter__(self):\n",
    "        \"\"\"Create a generator that iterate over the Sequence.\"\"\"\n",
    "        for item in (self[i] for i in range(len(self))):\n",
    "            yield item\n",
    "    \n",
    "    def on_epoch_end(self):\n",
    "        'Updates indexes after each epoch'\n",
    "        self.indexes = np.arange(len(self.paths))\n",
    "        if self.shuffle == True:\n",
    "            np.random.shuffle(self.indexes)"
   ]
  },
  {
   "cell_type": "code",
   "execution_count": 11,
   "metadata": {
    "_uuid": "cb15ed9df07875f787bc80667a0e4e3dd87f9908"
   },
   "outputs": [
    {
     "name": "stdout",
     "output_type": "stream",
     "text": [
      "(23304,)\n",
      "(23304, 28)\n",
      "(7768,)\n",
      "(7768, 28)\n",
      "['/home/shalin/my_projects/protein_atlas/train/369de974-bba0-11e8-b2b9-ac1f6b6435d0'\n",
      " '/home/shalin/my_projects/protein_atlas/train/af3f6482-bbc5-11e8-b2bc-ac1f6b6435d0'\n",
      " '/home/shalin/my_projects/protein_atlas/train/eac7a5fe-bba3-11e8-b2b9-ac1f6b6435d0'\n",
      " '/home/shalin/my_projects/protein_atlas/train/e74f735c-bbc1-11e8-b2bb-ac1f6b6435d0'\n",
      " '/home/shalin/my_projects/protein_atlas/train/502a2838-bbac-11e8-b2ba-ac1f6b6435d0']\n",
      "[[0 0 0 0 0 0 0 0 0 0 0 0 0 0 0 0 0 0 0 0 0 1 0 0 0 0 0 0]\n",
      " [1 0 0 0 0 0 0 0 0 0 0 0 0 0 0 0 0 0 0 0 0 1 0 0 0 0 0 0]\n",
      " [1 0 0 0 0 0 0 0 0 0 0 0 0 0 0 0 0 0 0 1 0 0 0 0 0 0 0 0]\n",
      " [0 0 0 0 0 0 1 0 0 0 0 0 0 0 0 0 0 0 0 0 0 0 0 0 0 0 0 0]\n",
      " [0 0 0 0 0 0 0 0 0 0 0 0 0 0 0 0 0 0 0 0 0 0 0 1 0 0 0 0]]\n"
     ]
    }
   ],
   "source": [
    "# Load the images in train and test\n",
    "import platform\n",
    "\n",
    "if platform.system() == 'Windows':\n",
    "    train_csv[\"train_paths\"] =  train_dir + \"\\\\\" + train_csv[\"Id\"].astype(str)\n",
    "else:\n",
    "    train_csv[\"train_paths\"] =  train_dir + \"/\" + train_csv[\"Id\"].astype(str)\n",
    "\n",
    "gc.collect()\n",
    "shuffle(train_csv)\n",
    "\n",
    "MAX_IMG_FOR_MODELING = 31072 #15000 # choosing only this much images to avoid memory error or timeout error\n",
    "shuffle(train_csv)\n",
    "subset_data=train_csv[:MAX_IMG_FOR_MODELING]\n",
    "\n",
    "train_paths, valid_paths, train_labels, valid_labels = train_test_split(subset_data[\"train_paths\"].values, \n",
    "                                                                    subset_data[list(class_names.values())].values, \n",
    "                                                                    test_size=0.25)\n",
    "                                                                    #stratify=subset_data[class_names.values()].values)\n",
    "print(train_paths.shape)\n",
    "print(train_labels.shape)\n",
    "print(valid_paths.shape)\n",
    "print(valid_labels.shape)\n",
    "\n",
    "print(train_paths[:5])\n",
    "print(train_labels[:5])"
   ]
  },
  {
   "cell_type": "code",
   "execution_count": 12,
   "metadata": {
    "_uuid": "67e1bf66dbc734ea51355fd6889864492a9c0e32"
   },
   "outputs": [
    {
     "name": "stdout",
     "output_type": "stream",
     "text": [
      "(28, 1)\n",
      "                               counts\n",
      "Nucleoplasm                      9678\n",
      "Nuclear membrane                  932\n",
      "Nucleoli                         2685\n",
      "Nucleoli fibrillar center        1147\n",
      "Nuclear speckles                 1396\n",
      "Nuclear bodies                   1896\n",
      "Endoplasmic reticulum             755\n",
      "Golgi apparatus                  2090\n",
      "Peroxisomes                        44\n",
      "Endosomes                          28\n",
      "Lysosomes                          15\n",
      "Intermediate filaments            836\n",
      "Actin filaments                   510\n",
      "Focal adhesion sites              399\n",
      "Microtubules                      800\n",
      "Microtubule ends                   18\n",
      "Cytokinetic bridge                413\n",
      "Mitotic spindle                   156\n",
      "Microtubule organizing center     699\n",
      "Centrosome                       1111\n",
      "Lipid droplets                    119\n",
      "Plasma membrane                  2845\n",
      "Cell junctions                    603\n",
      "Mitochondria                     2227\n",
      "Aggresome                         256\n",
      "Cytosol                          6171\n",
      "Cytoplasmic bodies                243\n",
      "Rods & rings                       10\n"
     ]
    },
    {
     "data": {
      "image/png": "[encoded data removed]",
      "text/plain": [
       "<Figure size 1440x720 with 1 Axes>"
      ]
     },
     "metadata": {
      "needs_background": "light"
     },
     "output_type": "display_data"
    },
    {
     "name": "stdout",
     "output_type": "stream",
     "text": [
      "(28, 1)\n",
      "                               counts\n",
      "Nucleoplasm                      3207\n",
      "Nuclear membrane                  322\n",
      "Nucleoli                          936\n",
      "Nucleoli fibrillar center         414\n",
      "Nuclear speckles                  462\n",
      "Nuclear bodies                    617\n",
      "Endoplasmic reticulum             253\n",
      "Golgi apparatus                   732\n",
      "Peroxisomes                         9\n",
      "Endosomes                          17\n",
      "Lysosomes                          13\n",
      "Intermediate filaments            257\n",
      "Actin filaments                   178\n",
      "Focal adhesion sites              138\n",
      "Microtubules                      266\n",
      "Microtubule ends                    3\n",
      "Cytokinetic bridge                117\n",
      "Mitotic spindle                    54\n",
      "Microtubule organizing center     203\n",
      "Centrosome                        371\n",
      "Lipid droplets                     53\n",
      "Plasma membrane                   932\n",
      "Cell junctions                    199\n",
      "Mitochondria                      738\n",
      "Aggresome                          66\n",
      "Cytosol                          2057\n",
      "Cytoplasmic bodies                 85\n",
      "Rods & rings                        1\n"
     ]
    },
    {
     "data": {
      "image/png": "[encoded data removed]",
      "text/plain": [
       "<Figure size 1440x720 with 1 Axes>"
      ]
     },
     "metadata": {
      "needs_background": "light"
     },
     "output_type": "display_data"
    }
   ],
   "source": [
    "# check class wise train and valid distrib\n",
    "tc = train_csv.set_index(\"Id\")\n",
    "train_ids = []\n",
    "valid_ids = []\n",
    "\n",
    "def get_distrib(dataset, lst):\n",
    "    for path in dataset:\n",
    "        lst.append(path.split(os.path.sep)[-1])\n",
    "        \n",
    "    data = train_csv[train_csv[\"Id\"].isin(lst)]\n",
    "    counts=data[list(class_names.values())].sum()\n",
    "    counts = counts.to_frame(\"cnts\")\n",
    "    plt.figure(figsize=(20, 10))\n",
    "    sns.barplot(counts.index, counts.cnts)\n",
    "    plt.xticks(rotation=70)\n",
    "    \n",
    "    counts.columns = [\"counts\"]\n",
    "    print(counts.shape)\n",
    "    print(counts)\n",
    "    return counts\n",
    "        \n",
    "td = get_distrib(train_paths, train_ids)\n",
    "plt.show()\n",
    "\n",
    "vd = get_distrib(valid_paths, valid_ids)\n",
    "plt.show()\n"
   ]
  },
  {
   "cell_type": "code",
   "execution_count": 13,
   "metadata": {
    "_uuid": "14bc7cfee2a767e735d66de3338207b159f91d36"
   },
   "outputs": [
    {
     "name": "stdout",
     "output_type": "stream",
     "text": [
      "{0: 0.08599769728102029, 1: 0.8930104230533416, 2: 0.309976057462091, 3: 0.7256196288454353, 4: 0.5961932050757266, 5: 0.43896925858951175, 6: 1.1023651844843898, 7: 0.39822282980177715, 8: 18.915584415584416, 9: 29.724489795918366, 10: 55.48571428571429, 11: 0.995557074504443, 12: 1.6319327731092437, 13: 2.0859291084854994, 14: 1.0403571428571428, 15: 46.23809523809524, 16: 2.0152196471809063, 17: 5.335164835164835, 18: 1.190680564071122, 19: 0.7491320560627491, 20: 6.9939975990396155, 21: 0.29254330906351994, 22: 1.3802416488983653, 23: 0.3737250625441016, 24: 3.2511160714285716, 25: 0.1348704771164664, 26: 3.4250440917107583, 27: 83.22857142857143}\n"
     ]
    }
   ],
   "source": [
    "y_integers = np.argmax(train_labels, axis=1)\n",
    "\n",
    "weights = train_labels.shape[0]/(len(class_names)*td[\"counts\"].values)\n",
    "class_weights = {}\n",
    "for cls_num, w in zip(class_names.keys(),weights):\n",
    "    class_weights[cls_num] = w\n",
    "\n",
    "print(class_weights)"
   ]
  },
  {
   "cell_type": "code",
   "execution_count": 14,
   "metadata": {
    "_uuid": "ce021d3cbea77b7653ec39650125ead455710b44"
   },
   "outputs": [
    {
     "name": "stdout",
     "output_type": "stream",
     "text": [
      "(224, 224, 3)\n"
     ]
    }
   ],
   "source": [
    "# Data generation\n",
    "\n",
    "batch_size=16\n",
    "\n",
    "load_green_only = False\n",
    "load_3chnls = True\n",
    "img_shape = (IMAGE_SIZE, IMAGE_SIZE, 1) if load_green_only else (IMAGE_SIZE, IMAGE_SIZE, 3) \\\n",
    "                                        if load_3chnls else (IMAGE_SIZE, IMAGE_SIZE, 3)\n",
    "print(img_shape)\n",
    "train_gen = BatchDataGenerator(train_paths, train_labels, batch_size, img_shape, load_green_only=load_green_only, \n",
    "                               load_3chnls=load_3chnls, augment=True, shuffle=False)\n",
    "val_gen = BatchDataGenerator(valid_paths, valid_labels, batch_size, img_shape, load_green_only=load_green_only, \n",
    "                             load_3chnls=load_3chnls, augment=True, shuffle=False)"
   ]
  },
  {
   "cell_type": "code",
   "execution_count": 15,
   "metadata": {
    "_uuid": "b85da257312d9d639afc6af230359c6e7f367bdf"
   },
   "outputs": [],
   "source": [
    "model_dir = './model'\n",
    "\n",
    "if not os.path.exists(model_dir):\n",
    "    os.makedirs(model_dir)\n",
    "    \n",
    "checkpoint = ModelCheckpoint(os.path.join(model_dir, 'base.model'), monitor='val_loss', verbose=1, save_best_only=True, save_weights_only=False, mode='min', period=1)\n",
    "reduce_LR_on_plateu = ReduceLROnPlateau(monitor='val_loss', factor=0.5, patience=3, verbose=1, mode='min')\n",
    "early_stopping = EarlyStopping(monitor='val_loss', min_delta=0, patience=5)"
   ]
  },
  {
   "cell_type": "code",
   "execution_count": 16,
   "metadata": {
    "_uuid": "590d796b605c7509d1d4fac55af85aae60e9d525"
   },
   "outputs": [],
   "source": [
    "def f1(y_true, y_pred):\n",
    "    y_pred = K.round(y_pred)\n",
    "    tp = K.sum(K.cast(y_true*y_pred, 'float'), axis=0)\n",
    "    # tn = K.sum(K.cast((1-y_true)*(1-y_pred), 'float'), axis=0)\n",
    "    fp = K.sum(K.cast((1-y_true)*y_pred, 'float'), axis=0)\n",
    "    fn = K.sum(K.cast(y_true*(1-y_pred), 'float'), axis=0)\n",
    "\n",
    "    p = tp / (tp + fp + K.epsilon())\n",
    "    r = tp / (tp + fn + K.epsilon())\n",
    "\n",
    "    f1 = 2*p*r / (p+r+K.epsilon())\n",
    "    f1 = tf.where(tf.is_nan(f1), tf.zeros_like(f1), f1)\n",
    "    return K.mean(f1)"
   ]
  },
  {
   "cell_type": "code",
   "execution_count": 17,
   "metadata": {
    "_uuid": "aeae65b0a130bc7da47a9c1ea1ad968b9df1d2ed"
   },
   "outputs": [],
   "source": [
    "import tensorflow as tf\n",
    "from keras.applications.vgg16 import VGG16\n",
    "from keras.applications.inception_v3 import InceptionV3\n",
    "from keras.models import Model\n",
    "from keras.layers import Conv2D, Flatten, Dense, MaxPooling2D , BatchNormalization, \\\n",
    "                        Input, GaussianNoise, GlobalMaxPooling2D, GlobalAveragePooling2D\n",
    "config = tf.ConfigProto()\n",
    "config.gpu_options.allow_growth = True\n",
    "session = tf.Session(config=config)"
   ]
  },
  {
   "cell_type": "code",
   "execution_count": 18,
   "metadata": {
    "_uuid": "9409231870b2b7623125d3c0e6cca7d20a00cce4"
   },
   "outputs": [],
   "source": [
    "# Train vs Validation accuracy and loss\n",
    "\n",
    "def loss_over_epochs(model, loss_type='loss', add_valid=True):\n",
    "    hist=model.history.history\n",
    "    plt.plot(list(range(epochs)), hist['loss'], color=\"blue\", label=\"train\")\n",
    "    if add_valid:\n",
    "        plt.plot(list(range(epochs)), hist['val_loss'], color=\"orange\", label=\"valid\")\n",
    "    plt.xlabel(\"Epochs\")\n",
    "    plt.ylabel(\"loss\")\n",
    "    plt.legend()\n",
    "    plt.title(\"Losses over the Epochs\")\n",
    "\n",
    "# accuracy vs epochs\n",
    "def acc_over_epochs(model, acc_type='acc', add_valid=True):\n",
    "    hist=model.history.history\n",
    "    plt.plot(list(range(epochs)), hist[acc_type], color=\"blue\", label=\"train\")\n",
    "    if add_valid:\n",
    "        plt.plot(list(range(epochs)), hist[\"val_\"+acc_type], color=\"orange\", label=\"valid\")\n",
    "    plt.xlabel(\"Epochs\")\n",
    "    plt.ylabel(acc_type)\n",
    "    plt.legend()\n",
    "    plt.title(acc_type + \" over the Epochs\")"
   ]
  },
  {
   "cell_type": "code",
   "execution_count": 19,
   "metadata": {
    "_uuid": "560ec9a51c7b9af47974bc096b0e0c9fcbf66b4d",
    "scrolled": false
   },
   "outputs": [
    {
     "name": "stdout",
     "output_type": "stream",
     "text": [
      "_________________________________________________________________\n",
      "Layer (type)                 Output Shape              Param #   \n",
      "=================================================================\n",
      "input_1 (InputLayer)         (None, 224, 224, 3)       0         \n",
      "_________________________________________________________________\n",
      "block1_conv1 (Conv2D)        (None, 224, 224, 64)      1792      \n",
      "_________________________________________________________________\n",
      "block1_conv2 (Conv2D)        (None, 224, 224, 64)      36928     \n",
      "_________________________________________________________________\n",
      "block1_pool (MaxPooling2D)   (None, 112, 112, 64)      0         \n",
      "_________________________________________________________________\n",
      "block2_conv1 (Conv2D)        (None, 112, 112, 128)     73856     \n",
      "_________________________________________________________________\n",
      "block2_conv2 (Conv2D)        (None, 112, 112, 128)     147584    \n",
      "_________________________________________________________________\n",
      "block2_pool (MaxPooling2D)   (None, 56, 56, 128)       0         \n",
      "_________________________________________________________________\n",
      "block3_conv1 (Conv2D)        (None, 56, 56, 256)       295168    \n",
      "_________________________________________________________________\n",
      "block3_conv2 (Conv2D)        (None, 56, 56, 256)       590080    \n",
      "_________________________________________________________________\n",
      "block3_conv3 (Conv2D)        (None, 56, 56, 256)       590080    \n",
      "_________________________________________________________________\n",
      "block3_pool (MaxPooling2D)   (None, 28, 28, 256)       0         \n",
      "_________________________________________________________________\n",
      "block4_conv1 (Conv2D)        (None, 28, 28, 512)       1180160   \n",
      "_________________________________________________________________\n",
      "block4_conv2 (Conv2D)        (None, 28, 28, 512)       2359808   \n",
      "_________________________________________________________________\n",
      "block4_conv3 (Conv2D)        (None, 28, 28, 512)       2359808   \n",
      "_________________________________________________________________\n",
      "block4_pool (MaxPooling2D)   (None, 14, 14, 512)       0         \n",
      "_________________________________________________________________\n",
      "block5_conv1 (Conv2D)        (None, 14, 14, 512)       2359808   \n",
      "_________________________________________________________________\n",
      "block5_conv2 (Conv2D)        (None, 14, 14, 512)       2359808   \n",
      "_________________________________________________________________\n",
      "block5_conv3 (Conv2D)        (None, 14, 14, 512)       2359808   \n",
      "_________________________________________________________________\n",
      "block5_pool (MaxPooling2D)   (None, 7, 7, 512)         0         \n",
      "=================================================================\n",
      "Total params: 14,714,688\n",
      "Trainable params: 14,714,688\n",
      "Non-trainable params: 0\n",
      "_________________________________________________________________\n"
     ]
    }
   ],
   "source": [
    "vgg_model = VGG16(include_top=False, input_shape=img_shape)\n",
    "vgg_model.summary()"
   ]
  },
  {
   "cell_type": "code",
   "execution_count": 20,
   "metadata": {
    "_uuid": "501af679376e605747238087b05f56c8d9c731ef"
   },
   "outputs": [],
   "source": [
    "gaus_noise = 0.1\n",
    "DENSE_COUNT = 1024\n",
    "\n",
    "vgg_model.trainable = False\n",
    "in_layer = Input(shape=(img_shape))\n",
    "noise_layer =  GaussianNoise(0.1)(in_layer)\n",
    "features_layer = vgg_model(noise_layer)\n",
    "batch_norm = BatchNormalization()(features_layer)\n",
    "#gmp_dr = GlobalMaxPooling2D()(batch_norm)\n",
    "x = GlobalAveragePooling2D()(batch_norm)\n",
    "x = Dense(DENSE_COUNT, activation = 'relu')(x)\n",
    "predictions = Dense(len(class_names), activation = 'sigmoid')(x)\n",
    "model = Model(inputs = [in_layer], outputs = [predictions], name = 'vgg_gnoise_model')"
   ]
  },
  {
   "cell_type": "code",
   "execution_count": 21,
   "metadata": {
    "_uuid": "7771916de0c8a242266a371ef7db6918c446fff4"
   },
   "outputs": [
    {
     "name": "stdout",
     "output_type": "stream",
     "text": [
      "_________________________________________________________________\n",
      "Layer (type)                 Output Shape              Param #   \n",
      "=================================================================\n",
      "input_2 (InputLayer)         (None, 224, 224, 3)       0         \n",
      "_________________________________________________________________\n",
      "gaussian_noise_1 (GaussianNo (None, 224, 224, 3)       0         \n",
      "_________________________________________________________________\n",
      "vgg16 (Model)                (None, 7, 7, 512)         14714688  \n",
      "_________________________________________________________________\n",
      "batch_normalization_1 (Batch (None, 7, 7, 512)         2048      \n",
      "_________________________________________________________________\n",
      "global_average_pooling2d_1 ( (None, 512)               0         \n",
      "_________________________________________________________________\n",
      "dense_1 (Dense)              (None, 1024)              525312    \n",
      "_________________________________________________________________\n",
      "dense_2 (Dense)              (None, 28)                28700     \n",
      "=================================================================\n",
      "Total params: 15,270,748\n",
      "Trainable params: 555,036\n",
      "Non-trainable params: 14,715,712\n",
      "_________________________________________________________________\n"
     ]
    }
   ],
   "source": [
    "model.summary()"
   ]
  },
  {
   "cell_type": "code",
   "execution_count": 22,
   "metadata": {
    "_uuid": "c406a048137b731a7cd7ffbb3e336586cbff1c4d"
   },
   "outputs": [
    {
     "data": {
      "text/plain": [
       "16904"
      ]
     },
     "execution_count": 22,
     "metadata": {},
     "output_type": "execute_result"
    }
   ],
   "source": [
    "opt = Adam(lr=0.01)\n",
    "model.compile(loss=\"binary_crossentropy\", optimizer=opt, metrics=[\"accuracy\", f1])\n",
    "gc.collect()"
   ]
  },
  {
   "cell_type": "code",
   "execution_count": 23,
   "metadata": {
    "_uuid": "797b27b29b9dab8aa47c4591dc5da1220e1acf9a"
   },
   "outputs": [
    {
     "name": "stdout",
     "output_type": "stream",
     "text": [
      "Epoch 1/30\n",
      "1456/1456 [==============================] - 353s 242ms/step - loss: 0.1071 - acc: 0.9400 - f1: 0.0053 - val_loss: 0.2404 - val_acc: 0.9407 - val_f1: 0.0000e+00\n",
      "\n",
      "Epoch 00001: val_loss improved from inf to 0.24035, saving model to ./model/base.model\n",
      "Epoch 2/30\n",
      "1456/1456 [==============================] - 336s 231ms/step - loss: 0.0977 - acc: 0.9413 - f1: 0.0016 - val_loss: 0.2648 - val_acc: 0.9302 - val_f1: 0.0181\n",
      "\n",
      "Epoch 00002: val_loss did not improve from 0.24035\n",
      "Epoch 3/30\n",
      "1456/1456 [==============================] - 330s 227ms/step - loss: 0.0984 - acc: 0.9414 - f1: 0.0020 - val_loss: 0.2273 - val_acc: 0.9421 - val_f1: 0.0000e+00\n",
      "\n",
      "Epoch 00003: val_loss improved from 0.24035 to 0.22726, saving model to ./model/base.model\n",
      "Epoch 4/30\n",
      "1456/1456 [==============================] - 332s 228ms/step - loss: 0.0986 - acc: 0.9414 - f1: 0.0013 - val_loss: 0.2013 - val_acc: 0.9407 - val_f1: 0.0014\n",
      "\n",
      "Epoch 00004: val_loss improved from 0.22726 to 0.20127, saving model to ./model/base.model\n",
      "Epoch 5/30\n",
      "1456/1456 [==============================] - 329s 226ms/step - loss: 0.0971 - acc: 0.9410 - f1: 0.0026 - val_loss: 0.2145 - val_acc: 0.9404 - val_f1: 0.0000e+00\n",
      "\n",
      "Epoch 00005: val_loss did not improve from 0.20127\n",
      "Epoch 6/30\n",
      "1456/1456 [==============================] - 333s 229ms/step - loss: 0.1001 - acc: 0.9416 - f1: 1.1457e-04 - val_loss: 0.2071 - val_acc: 0.9413 - val_f1: 0.0000e+00\n",
      "\n",
      "Epoch 00006: val_loss did not improve from 0.20127\n",
      "Epoch 7/30\n",
      "1456/1456 [==============================] - 332s 228ms/step - loss: 0.0972 - acc: 0.9416 - f1: 6.8331e-05 - val_loss: 0.1978 - val_acc: 0.9428 - val_f1: 0.0000e+00\n",
      "\n",
      "Epoch 00007: val_loss improved from 0.20127 to 0.19775, saving model to ./model/base.model\n",
      "Epoch 8/30\n",
      "1456/1456 [==============================] - 330s 226ms/step - loss: 0.0971 - acc: 0.9416 - f1: 6.1323e-05 - val_loss: 0.2032 - val_acc: 0.9410 - val_f1: 0.0000e+00\n",
      "\n",
      "Epoch 00008: val_loss did not improve from 0.19775\n",
      "Epoch 9/30\n",
      "1456/1456 [==============================] - 327s 224ms/step - loss: 0.0971 - acc: 0.9416 - f1: 2.8543e-05 - val_loss: 0.1984 - val_acc: 0.9427 - val_f1: 0.0000e+00\n",
      "\n",
      "Epoch 00009: val_loss did not improve from 0.19775\n",
      "Epoch 10/30\n",
      "1456/1456 [==============================] - 331s 227ms/step - loss: 0.0971 - acc: 0.9416 - f1: 0.0000e+00 - val_loss: 0.2025 - val_acc: 0.9419 - val_f1: 0.0000e+00\n",
      "\n",
      "Epoch 00010: val_loss did not improve from 0.19775\n",
      "\n",
      "Epoch 00010: ReduceLROnPlateau reducing learning rate to 0.004999999888241291.\n",
      "Epoch 11/30\n",
      "1456/1456 [==============================] - 334s 229ms/step - loss: 0.0970 - acc: 0.9416 - f1: 1.9273e-05 - val_loss: 0.1994 - val_acc: 0.9421 - val_f1: 0.0011\n",
      "\n",
      "Epoch 00011: val_loss did not improve from 0.19775\n",
      "Epoch 12/30\n",
      "1456/1456 [==============================] - 344s 236ms/step - loss: 0.0967 - acc: 0.9415 - f1: 0.0014 - val_loss: 0.2057 - val_acc: 0.9415 - val_f1: 0.0016\n",
      "\n",
      "Epoch 00012: val_loss did not improve from 0.19775\n",
      "Epoch 13/30\n",
      "1456/1456 [==============================] - 330s 227ms/step - loss: 0.0962 - acc: 0.9413 - f1: 0.0023 - val_loss: 0.2014 - val_acc: 0.9410 - val_f1: 0.0031\n",
      "\n",
      "Epoch 00013: val_loss did not improve from 0.19775\n",
      "\n",
      "Epoch 00013: ReduceLROnPlateau reducing learning rate to 0.0024999999441206455.\n",
      "Epoch 14/30\n",
      "1456/1456 [==============================] - 331s 227ms/step - loss: 0.0942 - acc: 0.9408 - f1: 0.0048 - val_loss: 0.2105 - val_acc: 0.9387 - val_f1: 0.0116\n",
      "\n",
      "Epoch 00014: val_loss did not improve from 0.19775\n",
      "Epoch 15/30\n",
      "1456/1456 [==============================] - 337s 232ms/step - loss: 0.0934 - acc: 0.9410 - f1: 0.0060 - val_loss: 0.2029 - val_acc: 0.9395 - val_f1: 0.0088\n",
      "\n",
      "Epoch 00015: val_loss did not improve from 0.19775\n",
      "Epoch 16/30\n",
      "1456/1456 [==============================] - 335s 230ms/step - loss: 0.0928 - acc: 0.9409 - f1: 0.0055 - val_loss: 0.1987 - val_acc: 0.9417 - val_f1: 0.0128\n",
      "\n",
      "Epoch 00016: val_loss did not improve from 0.19775\n",
      "\n",
      "Epoch 00016: ReduceLROnPlateau reducing learning rate to 0.0012499999720603228.\n",
      "Epoch 17/30\n",
      "1456/1456 [==============================] - 325s 223ms/step - loss: 0.0918 - acc: 0.9409 - f1: 0.0061 - val_loss: 0.1983 - val_acc: 0.9416 - val_f1: 0.0067\n",
      "\n",
      "Epoch 00017: val_loss did not improve from 0.19775\n",
      "Epoch 18/30\n",
      "1456/1456 [==============================] - 322s 221ms/step - loss: 0.0916 - acc: 0.9411 - f1: 0.0067 - val_loss: 0.2060 - val_acc: 0.9399 - val_f1: 0.0105\n",
      "\n",
      "Epoch 00018: val_loss did not improve from 0.19775\n",
      "Epoch 19/30\n",
      "1456/1456 [==============================] - 323s 222ms/step - loss: 0.0912 - acc: 0.9409 - f1: 0.0081 - val_loss: 0.2036 - val_acc: 0.9418 - val_f1: 0.0080\n",
      "\n",
      "Epoch 00019: val_loss did not improve from 0.19775\n",
      "\n",
      "Epoch 00019: ReduceLROnPlateau reducing learning rate to 0.0006249999860301614.\n",
      "Epoch 20/30\n",
      "1456/1456 [==============================] - 322s 221ms/step - loss: 0.0905 - acc: 0.9411 - f1: 0.0084 - val_loss: 0.2101 - val_acc: 0.9405 - val_f1: 0.0089\n",
      "\n",
      "Epoch 00020: val_loss did not improve from 0.19775\n",
      "Epoch 21/30\n",
      "1456/1456 [==============================] - 322s 221ms/step - loss: 0.0902 - acc: 0.9411 - f1: 0.0091 - val_loss: 0.2089 - val_acc: 0.9392 - val_f1: 0.0118\n",
      "\n",
      "Epoch 00021: val_loss did not improve from 0.19775\n",
      "Epoch 22/30\n",
      "1456/1456 [==============================] - 321s 221ms/step - loss: 0.0905 - acc: 0.9411 - f1: 0.0099 - val_loss: 0.2029 - val_acc: 0.9402 - val_f1: 0.0137\n",
      "\n",
      "Epoch 00022: val_loss did not improve from 0.19775\n",
      "\n",
      "Epoch 00022: ReduceLROnPlateau reducing learning rate to 0.0003124999930150807.\n",
      "Epoch 23/30\n",
      "1456/1456 [==============================] - 324s 223ms/step - loss: 0.0899 - acc: 0.9413 - f1: 0.0119 - val_loss: 0.2084 - val_acc: 0.9391 - val_f1: 0.0147\n",
      "\n",
      "Epoch 00023: val_loss did not improve from 0.19775\n",
      "Epoch 24/30\n",
      "1456/1456 [==============================] - 323s 222ms/step - loss: 0.0898 - acc: 0.9413 - f1: 0.0107 - val_loss: 0.2135 - val_acc: 0.9390 - val_f1: 0.0154\n",
      "\n",
      "Epoch 00024: val_loss did not improve from 0.19775\n",
      "Epoch 25/30\n",
      "1456/1456 [==============================] - 323s 222ms/step - loss: 0.0895 - acc: 0.9414 - f1: 0.0114 - val_loss: 0.2115 - val_acc: 0.9382 - val_f1: 0.0135\n",
      "\n",
      "Epoch 00025: val_loss did not improve from 0.19775\n",
      "\n",
      "Epoch 00025: ReduceLROnPlateau reducing learning rate to 0.00015624999650754035.\n",
      "Epoch 26/30\n",
      "1456/1456 [==============================] - 322s 221ms/step - loss: 0.0894 - acc: 0.9414 - f1: 0.0123 - val_loss: 0.2039 - val_acc: 0.9406 - val_f1: 0.0148\n",
      "\n",
      "Epoch 00026: val_loss did not improve from 0.19775\n",
      "Epoch 27/30\n",
      "1456/1456 [==============================] - 324s 223ms/step - loss: 0.0896 - acc: 0.9415 - f1: 0.0119 - val_loss: 0.2083 - val_acc: 0.9392 - val_f1: 0.0127\n",
      "\n",
      "Epoch 00027: val_loss did not improve from 0.19775\n",
      "Epoch 28/30\n",
      "1456/1456 [==============================] - 321s 220ms/step - loss: 0.0894 - acc: 0.9414 - f1: 0.0119 - val_loss: 0.2152 - val_acc: 0.9387 - val_f1: 0.0162\n",
      "\n",
      "Epoch 00028: val_loss did not improve from 0.19775\n",
      "\n",
      "Epoch 00028: ReduceLROnPlateau reducing learning rate to 7.812499825377017e-05.\n",
      "Epoch 29/30\n",
      "1456/1456 [==============================] - 324s 222ms/step - loss: 0.0894 - acc: 0.9413 - f1: 0.0116 - val_loss: 0.2125 - val_acc: 0.9407 - val_f1: 0.0084\n",
      "\n",
      "Epoch 00029: val_loss did not improve from 0.19775\n",
      "Epoch 30/30\n",
      "1456/1456 [==============================] - 323s 222ms/step - loss: 0.0895 - acc: 0.9414 - f1: 0.0121 - val_loss: 0.2189 - val_acc: 0.9396 - val_f1: 0.0143\n",
      "\n",
      "Epoch 00030: val_loss did not improve from 0.19775\n"
     ]
    },
    {
     "data": {
      "text/plain": [
       "<keras.callbacks.History at 0x7fb47ed902b0>"
      ]
     },
     "execution_count": 23,
     "metadata": {},
     "output_type": "execute_result"
    }
   ],
   "source": [
    "epochs = 30\n",
    "\n",
    "use_multiprocessing = True # DO NOT COMBINE MULTIPROCESSING WITH CACHE! \n",
    "workers = 6 # DO NOT COMBINE MULTIPROCESSING WITH CACHE! \n",
    "\n",
    "model.fit_generator(\n",
    "                    train_gen,\n",
    "                    steps_per_epoch=len(train_gen), \n",
    "                    validation_data=val_gen,\n",
    "                    validation_steps=50,\n",
    "                    epochs=epochs,\n",
    "                    use_multiprocessing=use_multiprocessing,\n",
    "                    workers=workers,\n",
    "                    class_weight=class_weights,\n",
    "                    callbacks=[checkpoint, reduce_LR_on_plateu])"
   ]
  },
  {
   "cell_type": "code",
   "execution_count": 24,
   "metadata": {
    "_uuid": "f33d2a606e9c6eb061cd3183420422fa0c27ee34"
   },
   "outputs": [
    {
     "data": {
      "image/png": "[encoded data removed]",
      "text/plain": [
       "<Figure size 432x288 with 1 Axes>"
      ]
     },
     "metadata": {
      "needs_background": "light"
     },
     "output_type": "display_data"
    },
    {
     "data": {
      "image/png": "[encoded data removed]",
      "text/plain": [
       "<Figure size 432x288 with 1 Axes>"
      ]
     },
     "metadata": {
      "needs_background": "light"
     },
     "output_type": "display_data"
    },
    {
     "data": {
      "image/png": "[encoded data removed]",
      "text/plain": [
       "<Figure size 432x288 with 1 Axes>"
      ]
     },
     "metadata": {
      "needs_background": "light"
     },
     "output_type": "display_data"
    },
    {
     "data": {
      "image/png": "[encoded data removed]",
      "text/plain": [
       "<Figure size 432x288 with 1 Axes>"
      ]
     },
     "metadata": {
      "needs_background": "light"
     },
     "output_type": "display_data"
    }
   ],
   "source": [
    "loss_over_epochs(model)\n",
    "plt.show()\n",
    "acc_over_epochs(model)\n",
    "plt.show()\n",
    "acc_over_epochs(model, acc_type=\"f1\")\n",
    "plt.show()\n",
    "acc_over_epochs(model, add_valid=False)"
   ]
  },
  {
   "cell_type": "markdown",
   "metadata": {
    "_uuid": "35eccb4a1ec1470c3c08495ba62147fba0a516ed"
   },
   "source": [
    "## Test Data and Submission"
   ]
  },
  {
   "cell_type": "code",
   "execution_count": 25,
   "metadata": {
    "_uuid": "686336d8c61653923a3ee49c128c347a8fd1e509"
   },
   "outputs": [
    {
     "name": "stdout",
     "output_type": "stream",
     "text": [
      "['/home/shalin/my_projects/protein_atlas/test/00008af0-bad0-11e8-b2b8-ac1f6b6435d0'\n",
      " '/home/shalin/my_projects/protein_atlas/test/0000a892-bacf-11e8-b2b8-ac1f6b6435d0'\n",
      " '/home/shalin/my_projects/protein_atlas/test/0006faa6-bac7-11e8-b2b7-ac1f6b6435d0']\n",
      "[[1. 1. 1. 1. 1. 1. 1. 1. 1. 1. 1. 1. 1. 1. 1. 1. 1. 1. 1. 1. 1. 1. 1. 1.\n",
      "  1. 1. 1. 1.]\n",
      " [1. 1. 1. 1. 1. 1. 1. 1. 1. 1. 1. 1. 1. 1. 1. 1. 1. 1. 1. 1. 1. 1. 1. 1.\n",
      "  1. 1. 1. 1.]\n",
      " [1. 1. 1. 1. 1. 1. 1. 1. 1. 1. 1. 1. 1. 1. 1. 1. 1. 1. 1. 1. 1. 1. 1. 1.\n",
      "  1. 1. 1. 1.]]\n"
     ]
    }
   ],
   "source": [
    "# Get the test data\n",
    "test_paths = []\n",
    "sample_test_labels = []\n",
    "\n",
    "sample_submit = os.path.join(root_dir, 'sample_submission.csv')\n",
    "data = pd.read_csv(sample_submit)\n",
    "    \n",
    "for name in data['Id']:\n",
    "    y = np.ones(28)\n",
    "    test_paths.append(os.path.join(test_dir, name))\n",
    "    sample_test_labels.append(y)\n",
    "\n",
    "test_paths = np.array(test_paths)\n",
    "sample_test_labels = np.array(sample_test_labels)\n",
    "\n",
    "print(test_paths[:3])\n",
    "print(sample_test_labels[:3])"
   ]
  },
  {
   "cell_type": "code",
   "execution_count": 26,
   "metadata": {
    "_uuid": "bbd1ab5bd1006cc8cb5eb90c512910a3aef18071"
   },
   "outputs": [],
   "source": [
    "def load_test_images(load_all=False):\n",
    "    \"\"\"\n",
    "    If load_all==False then it will return the iterator or it will return the all test images in numpy array.\n",
    "    \"\"\"\n",
    "    test_gen = BatchDataGenerator(test_paths, sample_test_labels, 1, img_shape, load_green_only=load_green_only, \n",
    "                               load_3chnls=load_3chnls, augment=False, shuffle=False, return_paths=True)\n",
    "    if load_all:\n",
    "        images = []\n",
    "        for img in test_gen:\n",
    "            images.append(img)\n",
    "        \n",
    "        return np.array(images)\n",
    "    \n",
    "    return test_gen"
   ]
  },
  {
   "cell_type": "code",
   "execution_count": 27,
   "metadata": {
    "_uuid": "27a667748bb07d0416acc56ba92b7f481f87f97f",
    "scrolled": true
   },
   "outputs": [
    {
     "name": "stderr",
     "output_type": "stream",
     "text": [
      "100%|██████████| 485/485 [03:49<00:00,  2.12it/s]"
     ]
    },
    {
     "name": "stdout",
     "output_type": "stream",
     "text": [
      "(23280, 28)\n"
     ]
    },
    {
     "name": "stderr",
     "output_type": "stream",
     "text": [
      "\n"
     ]
    }
   ],
   "source": [
    "full_val_pred = np.empty((0, 28))\n",
    "for i in tqdm(range(len(val_gen))): \n",
    "    im, lbl = val_gen[i]\n",
    "    scores = model.predict(im)\n",
    "    full_val_pred = np.append(full_val_pred, scores, axis=0)\n",
    "print(full_val_pred.shape)"
   ]
  },
  {
   "cell_type": "code",
   "execution_count": 28,
   "metadata": {
    "_uuid": "f73d6fd87fb28ff926d21a52bc478c8411641ebc"
   },
   "outputs": [
    {
     "name": "stdout",
     "output_type": "stream",
     "text": [
      "Probability threshold for each class score:\n",
      "[0.17692961 0.06348985 0.15631423 0.0916313  0.13390496 0.09701963\n",
      " 0.05989491 0.06612776 0.07011564 0.09233357 0.03715436 0.06225269\n",
      " 0.04773318 0.05503295 0.08423697 0.0005114  0.02326799 0.02301825\n",
      " 0.06041699 0.05776544 0.07234424 0.09911635 0.0389252  0.0688813\n",
      " 0.05499392 0.21464622 0.04906948 0.00508387]\n"
     ]
    }
   ],
   "source": [
    "# Take \"perc\" percentile score of each class a threshold\n",
    "perc = 85\n",
    "\n",
    "thresholds = np.empty(len(class_names))\n",
    "for i in range(len(class_names)):\n",
    "    thresholds[i] = np.percentile(full_val_pred[:,i], perc)\n",
    "print('Probability threshold for each class score:')\n",
    "print(thresholds)"
   ]
  },
  {
   "cell_type": "code",
   "execution_count": 29,
   "metadata": {
    "_uuid": "02d08f0859a97d55f88d6957975974a5ad88667a"
   },
   "outputs": [
    {
     "name": "stderr",
     "output_type": "stream",
     "text": [
      "100%|██████████| 11702/11702 [03:48<00:00, 51.17it/s]\n"
     ]
    }
   ],
   "source": [
    "preds = {\"Id\":[], \"Predicted\":[]}\n",
    "\n",
    "\n",
    "test_images = load_test_images()\n",
    "\n",
    "i=0\n",
    "for img_data in tqdm(test_images):\n",
    "    paths, test_imgs, labels = img_data\n",
    "    score = model.predict(test_imgs)\n",
    "    tmp = []\n",
    "    for i in range(len(class_names)):\n",
    "        if score[0][i] >= thresholds[i]:\n",
    "            tmp.append(str(i))\n",
    "    preds[\"Id\"].append(paths[0].split(os.path.sep)[-1])\n",
    "    preds[\"Predicted\"].append(\" \".join(tmp))"
   ]
  },
  {
   "cell_type": "code",
   "execution_count": 30,
   "metadata": {
    "_uuid": "6150f549001717254272d2234079431d7b30f6ce"
   },
   "outputs": [
    {
     "name": "stdout",
     "output_type": "stream",
     "text": [
      "(11702, 2)\n",
      "                                     Id         Predicted\n",
      "0  00008af0-bad0-11e8-b2b8-ac1f6b6435d0               2 3\n",
      "1  0000a892-bacf-11e8-b2b8-ac1f6b6435d0                26\n",
      "2  0006faa6-bac7-11e8-b2b7-ac1f6b6435d0             12 21\n",
      "3  0008baca-bad7-11e8-b2b9-ac1f6b6435d0  0 2 4 5 15 16 17\n",
      "4  000cce7e-bad4-11e8-b2b8-ac1f6b6435d0             11 23\n"
     ]
    }
   ],
   "source": [
    "submit = pd.DataFrame(preds)\n",
    "print(submit.shape)\n",
    "print(submit.head(5))\n",
    "submit.to_csv(\"submission1.csv\", index=False)"
   ]
  }
 ],
 "metadata": {
  "kernelspec": {
   "display_name": "Python 3",
   "language": "python",
   "name": "python3"
  },
  "language_info": {
   "codemirror_mode": {
    "name": "ipython",
    "version": 3
   },
   "file_extension": ".py",
   "mimetype": "text/x-python",
   "name": "python",
   "nbconvert_exporter": "python",
   "pygments_lexer": "ipython3",
   "version": "3.6.7"
  }
 },
 "nbformat": 4,
 "nbformat_minor": 1
}
